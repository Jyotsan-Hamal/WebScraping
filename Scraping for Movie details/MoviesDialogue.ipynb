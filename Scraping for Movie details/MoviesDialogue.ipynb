{
 "cells": [
  {
   "cell_type": "code",
   "execution_count": 1,
   "id": "91fd8750",
   "metadata": {},
   "outputs": [],
   "source": [
    "import pandas as pd\n",
    "import requests\n",
    "from bs4 import BeautifulSoup"
   ]
  },
  {
   "cell_type": "code",
   "execution_count": 2,
   "id": "2fe193ea",
   "metadata": {},
   "outputs": [
    {
     "data": {
      "text/plain": [
       "<Response [403]>"
      ]
     },
     "execution_count": 2,
     "metadata": {},
     "output_type": "execute_result"
    }
   ],
   "source": [
    "requests.get('https://www.afi.com/afis-100-years-100-movie-quotes/')"
   ]
  },
  {
   "cell_type": "code",
   "execution_count": 3,
   "id": "dc029103",
   "metadata": {},
   "outputs": [],
   "source": [
    "headers={'User-Agent':'Mozilla/5.0 (Windows NT 6.3; Win 64 ; x64) Apple WeKit /537.36(KHTML , like Gecko) Chrome/80.0.3987.162 Safari/537.36'}\n",
    "url = 'https://www.afi.com/afis-100-years-100-movie-quotes/'\n",
    "webpage = requests.get(url,headers=headers).text"
   ]
  },
  {
   "cell_type": "code",
   "execution_count": 5,
   "id": "6f1fe156",
   "metadata": {},
   "outputs": [],
   "source": [
    "soup = BeautifulSoup(webpage,'lxml')"
   ]
  },
  {
   "cell_type": "code",
   "execution_count": 82,
   "id": "0466f040",
   "metadata": {},
   "outputs": [],
   "source": [
    "data = soup.find_all('h6',class_='q_title')\n",
    "movie = soup.find_all('p',class_='Directors')\n",
    "Producer = soup.find_all('p',class_='Producer')\n",
    "gen = soup.find_all('p',class_='Genre')\n",
    "Edi = soup.find_all('p',class_='Editor')\n",
    "Names= soup.find_all('p',class_='')"
   ]
  },
  {
   "cell_type": "code",
   "execution_count": 96,
   "id": "356e4076",
   "metadata": {},
   "outputs": [],
   "source": [
    "Movie=[]\n",
    "Dialogue = []\n",
    "Directors = []\n",
    "Producers = []\n",
    "Genre = []\n",
    "Editor = []\n",
    "for i in range(len(gen)):\n",
    "    Movie.append(Names[i].text)\n",
    "    Dialogue.append(data[i].text.replace('{}.'.format(i+1),''))\n",
    "    Directors.append(movie[i].text.replace('Directors:',''))\n",
    "    Producers.append(Producer[i].text.replace('Producer:',''))\n",
    "    Genre.append(gen[i].text.replace('Genre:',''))\n",
    "    Editor.append(Edi[i].text.replace('Editor:',''))\n",
    "    "
   ]
  },
  {
   "cell_type": "code",
   "execution_count": 97,
   "id": "0529f7c9",
   "metadata": {},
   "outputs": [],
   "source": [
    "dict = {'Movie':Movie,'Dialogue':Dialogue,'Directors':Directors,'Producers':Producers,'Genre':Genre,'Editor':Editor}"
   ]
  },
  {
   "cell_type": "code",
   "execution_count": 98,
   "id": "d9665392",
   "metadata": {},
   "outputs": [],
   "source": [
    "dataframe = pd.DataFrame(dict)"
   ]
  },
  {
   "cell_type": "code",
   "execution_count": 100,
   "id": "d38477cd",
   "metadata": {},
   "outputs": [],
   "source": [
    "dataframe.to_csv('MovieDetail.csv')"
   ]
  },
  {
   "cell_type": "code",
   "execution_count": 103,
   "id": "b918bea1",
   "metadata": {},
   "outputs": [
    {
     "data": {
      "text/plain": [
       "Movie        0\n",
       "Dialogue     0\n",
       "Directors    0\n",
       "Producers    0\n",
       "Genre        0\n",
       "Editor       0\n",
       "dtype: int64"
      ]
     },
     "execution_count": 103,
     "metadata": {},
     "output_type": "execute_result"
    }
   ],
   "source": [
    "dataframe.isnull().sum()"
   ]
  },
  {
   "cell_type": "code",
   "execution_count": 104,
   "id": "36301d82",
   "metadata": {
    "scrolled": true
   },
   "outputs": [
    {
     "data": {
      "text/html": [
       "<div>\n",
       "<style scoped>\n",
       "    .dataframe tbody tr th:only-of-type {\n",
       "        vertical-align: middle;\n",
       "    }\n",
       "\n",
       "    .dataframe tbody tr th {\n",
       "        vertical-align: top;\n",
       "    }\n",
       "\n",
       "    .dataframe thead th {\n",
       "        text-align: right;\n",
       "    }\n",
       "</style>\n",
       "<table border=\"1\" class=\"dataframe\">\n",
       "  <thead>\n",
       "    <tr style=\"text-align: right;\">\n",
       "      <th></th>\n",
       "      <th>Movie</th>\n",
       "      <th>Dialogue</th>\n",
       "      <th>Directors</th>\n",
       "      <th>Producers</th>\n",
       "      <th>Genre</th>\n",
       "      <th>Editor</th>\n",
       "    </tr>\n",
       "  </thead>\n",
       "  <tbody>\n",
       "    <tr>\n",
       "      <th>84</th>\n",
       "      <td>The Lord of the Rings: The Two Towers (2002)</td>\n",
       "      <td>\"My precious.\"</td>\n",
       "      <td>Peter Jackson</td>\n",
       "      <td>Douglas Kenney, Jon Peters</td>\n",
       "      <td>Adventure, Drama, Fantasy</td>\n",
       "      <td>Ralph Dawson</td>\n",
       "    </tr>\n",
       "    <tr>\n",
       "      <th>13</th>\n",
       "      <td>The Maltese Falcon (1941)</td>\n",
       "      <td>\"The stuff that dreams are made of.\"</td>\n",
       "      <td>John Huston</td>\n",
       "      <td>Hal B. Wallis</td>\n",
       "      <td>Drama</td>\n",
       "      <td>Carol Littleton</td>\n",
       "    </tr>\n",
       "    <tr>\n",
       "      <th>74</th>\n",
       "      <td>A Streetcar Named Desire (1951)</td>\n",
       "      <td>\"I have always depended on the kindness of s...</td>\n",
       "      <td>Elia Kazan</td>\n",
       "      <td>Matty Simmons, Ivan Reitman</td>\n",
       "      <td>Drama</td>\n",
       "      <td>Patrick Kennedy</td>\n",
       "    </tr>\n",
       "    <tr>\n",
       "      <th>89</th>\n",
       "      <td>Goldfinger (1964)</td>\n",
       "      <td>\"A martini.  Shaken, not stirred.\"</td>\n",
       "      <td>Guy Hamilton</td>\n",
       "      <td>Linda Gottlieb, Mitchell Cannold, Steven Reuther</td>\n",
       "      <td>Adventure, Drama</td>\n",
       "      <td>Billy Weber, Chris Lebenzon</td>\n",
       "    </tr>\n",
       "    <tr>\n",
       "      <th>41</th>\n",
       "      <td>The Graduate (1967)</td>\n",
       "      <td>\"Plastics.\"</td>\n",
       "      <td>Mike Nichols</td>\n",
       "      <td>Frank Marshall, Kathleen Kennedy, Barry Mendel</td>\n",
       "      <td>Comedy-drama</td>\n",
       "      <td>Andrew Mondshein</td>\n",
       "    </tr>\n",
       "  </tbody>\n",
       "</table>\n",
       "</div>"
      ],
      "text/plain": [
       "                                            Movie  \\\n",
       "84   The Lord of the Rings: The Two Towers (2002)   \n",
       "13                      The Maltese Falcon (1941)   \n",
       "74                A Streetcar Named Desire (1951)   \n",
       "89                              Goldfinger (1964)   \n",
       "41                            The Graduate (1967)   \n",
       "\n",
       "                                             Dialogue       Directors  \\\n",
       "84                                     \"My precious.\"   Peter Jackson   \n",
       "13               \"The stuff that dreams are made of.\"     John Huston   \n",
       "74    \"I have always depended on the kindness of s...      Elia Kazan   \n",
       "89                 \"A martini.  Shaken, not stirred.\"    Guy Hamilton   \n",
       "41                                        \"Plastics.\"    Mike Nichols   \n",
       "\n",
       "                                            Producers  \\\n",
       "84                         Douglas Kenney, Jon Peters   \n",
       "13                                      Hal B. Wallis   \n",
       "74                        Matty Simmons, Ivan Reitman   \n",
       "89   Linda Gottlieb, Mitchell Cannold, Steven Reuther   \n",
       "41     Frank Marshall, Kathleen Kennedy, Barry Mendel   \n",
       "\n",
       "                         Genre                         Editor  \n",
       "84   Adventure, Drama, Fantasy                   Ralph Dawson  \n",
       "13                       Drama                Carol Littleton  \n",
       "74                       Drama                Patrick Kennedy  \n",
       "89            Adventure, Drama    Billy Weber, Chris Lebenzon  \n",
       "41                Comedy-drama               Andrew Mondshein  "
      ]
     },
     "execution_count": 104,
     "metadata": {},
     "output_type": "execute_result"
    }
   ],
   "source": [
    "dataframe.sample(5)"
   ]
  },
  {
   "cell_type": "code",
   "execution_count": null,
   "id": "a8d35f86",
   "metadata": {},
   "outputs": [],
   "source": []
  }
 ],
 "metadata": {
  "kernelspec": {
   "display_name": "Python 3 (ipykernel)",
   "language": "python",
   "name": "python3"
  },
  "language_info": {
   "codemirror_mode": {
    "name": "ipython",
    "version": 3
   },
   "file_extension": ".py",
   "mimetype": "text/x-python",
   "name": "python",
   "nbconvert_exporter": "python",
   "pygments_lexer": "ipython3",
   "version": "3.10.9"
  }
 },
 "nbformat": 4,
 "nbformat_minor": 5
}
