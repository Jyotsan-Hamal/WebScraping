{
 "cells": [
  {
   "cell_type": "code",
   "execution_count": 1,
   "id": "8549f1a7",
   "metadata": {},
   "outputs": [],
   "source": [
    "import requests\n",
    "from bs4 import BeautifulSoup\n",
    "import pandas as pd"
   ]
  },
  {
   "cell_type": "code",
   "execution_count": 2,
   "id": "b20fc68d",
   "metadata": {},
   "outputs": [
    {
     "data": {
      "text/plain": [
       "<Response [403]>"
      ]
     },
     "execution_count": 2,
     "metadata": {},
     "output_type": "execute_result"
    }
   ],
   "source": [
    "requests.get('https://www.glassdoor.com/Explore/browse-companies.htm?overall_rating_low=3.5&page=1&occ=Machine%20Learning%20Engineer&filterType=RATING_OVERALL')"
   ]
  },
  {
   "cell_type": "code",
   "execution_count": 4,
   "id": "388a04cf",
   "metadata": {},
   "outputs": [],
   "source": [
    "headers={'User-Agent':'Mozilla/5.0 (Windows NT 6.3; Win 64 ; x64) Apple WeKit /537.36(KHTML , like Gecko) Chrome/80.0.3987.162 Safari/537.36'}\n",
    "url = 'https://www.glassdoor.com/Explore/browse-companies.htm?overall_rating_low=3.5&page=1&occ=Machine%20Learning%20Engineer&filterType=RATING_OVERALL'\n",
    "webpage = requests.get(url,headers=headers).text"
   ]
  },
  {
   "cell_type": "code",
   "execution_count": 6,
   "id": "712d1b53",
   "metadata": {},
   "outputs": [],
   "source": [
    "soup = BeautifulSoup(webpage,'lxml')"
   ]
  },
  {
   "cell_type": "code",
   "execution_count": 18,
   "id": "24afb391",
   "metadata": {},
   "outputs": [],
   "source": [
    "company = soup.find_all(\"div\",class_=\"row d-flex flex-wrap\")"
   ]
  },
  {
   "cell_type": "code",
   "execution_count": 22,
   "id": "68eae60b",
   "metadata": {},
   "outputs": [
    {
     "data": {
      "text/plain": [
       "10"
      ]
     },
     "execution_count": 22,
     "metadata": {},
     "output_type": "execute_result"
    }
   ],
   "source": [
    "len(company)"
   ]
  },
  {
   "cell_type": "code",
   "execution_count": 3,
   "id": "b2b560b4",
   "metadata": {},
   "outputs": [
    {
     "name": "stderr",
     "output_type": "stream",
     "text": [
      "C:\\Users\\HP\\AppData\\Local\\Temp\\ipykernel_8584\\2147641962.py:23: FutureWarning: The frame.append method is deprecated and will be removed from pandas in a future version. Use pandas.concat instead.\n",
      "  CompanySet = CompanySet.append(df,ignore_index=True)\n"
     ]
    },
    {
     "name": "stdout",
     "output_type": "stream",
     "text": [
      "Page is 0 Loaded Sucessfully..\n",
      "Page is 1 Loaded Sucessfully..\n",
      "Page is 2 Loaded Sucessfully..\n",
      "Page is 3 Loaded Sucessfully..\n",
      "Page is 4 Loaded Sucessfully..\n",
      "Page is 5 Loaded Sucessfully..\n",
      "Page is 6 Loaded Sucessfully..\n",
      "Page is 7 Loaded Sucessfully..\n",
      "Page is 8 Loaded Sucessfully..\n",
      "Page is 9 Loaded Sucessfully..\n",
      "Page is 10 Loaded Sucessfully..\n",
      "Page is 11 Loaded Sucessfully..\n",
      "Page is 12 Loaded Sucessfully..\n",
      "Page is 13 Loaded Sucessfully..\n",
      "Page is 14 Loaded Sucessfully..\n",
      "Page is 15 Loaded Sucessfully..\n",
      "Page is 16 Loaded Sucessfully..\n",
      "Page is 17 Loaded Sucessfully..\n",
      "Page is 18 Loaded Sucessfully..\n",
      "Page is 19 Loaded Sucessfully..\n",
      "Page is 20 Loaded Sucessfully..\n",
      "Page is 21 Loaded Sucessfully..\n",
      "Page is 22 Loaded Sucessfully..\n",
      "Page is 23 Loaded Sucessfully..\n",
      "Page is 24 Loaded Sucessfully..\n",
      "Page is 25 Loaded Sucessfully..\n",
      "Page is 26 Loaded Sucessfully..\n",
      "Page is 27 Loaded Sucessfully..\n",
      "Page is 28 Loaded Sucessfully..\n",
      "Page is 29 Loaded Sucessfully..\n",
      "Page is 30 Loaded Sucessfully..\n",
      "Page is 31 Loaded Sucessfully..\n",
      "Page is 32 Loaded Sucessfully..\n",
      "Page is 33 Loaded Sucessfully..\n",
      "Page is 34 Loaded Sucessfully..\n",
      "Page is 35 Loaded Sucessfully..\n",
      "Page is 36 Loaded Sucessfully..\n",
      "Page is 37 Loaded Sucessfully..\n",
      "Page is 38 Loaded Sucessfully..\n",
      "Page is 39 Loaded Sucessfully..\n",
      "Page is 40 Loaded Sucessfully..\n",
      "Page is 41 Loaded Sucessfully..\n",
      "Page is 42 Loaded Sucessfully..\n",
      "Page is 43 Loaded Sucessfully..\n",
      "Page is 44 Loaded Sucessfully..\n",
      "Page is 45 Loaded Sucessfully..\n",
      "Page is 46 Loaded Sucessfully..\n",
      "Page is 47 Loaded Sucessfully..\n",
      "Page is 48 Loaded Sucessfully..\n",
      "Page is 49 Loaded Sucessfully..\n",
      "Page is 50 Loaded Sucessfully..\n",
      "Page is 51 Loaded Sucessfully..\n",
      "Page is 52 Loaded Sucessfully..\n",
      "Page is 53 Loaded Sucessfully..\n",
      "Page is 54 Loaded Sucessfully..\n",
      "Page is 55 Loaded Sucessfully..\n",
      "Page is 56 Loaded Sucessfully..\n",
      "Page is 57 Loaded Sucessfully..\n",
      "Page is 58 Loaded Sucessfully..\n",
      "Page is 59 Loaded Sucessfully..\n"
     ]
    }
   ],
   "source": [
    "Company=[]\n",
    "Rating = []\n",
    "Salaries=[]\n",
    "Review = []\n",
    "Jobs=[]\n",
    "Location = []\n",
    "CompanySet=pd.DataFrame()\n",
    "for j in range(60):\n",
    "    headers={'User-Agent':'Mozilla/5.0 (Windows NT 6.3; Win 64 ; x64) Apple WeKit /537.36(KHTML , like Gecko) Chrome/80.0.3987.162 Safari/537.36'}\n",
    "    url = 'https://www.glassdoor.com/Explore/browse-companies.htm?overall_rating_low=3.5&page={}&occ=Machine%20Learning%20Engineer&filterType=RATING_OVERALL'.format(j)\n",
    "    webpage = requests.get(url,headers=headers).text\n",
    "    soup = BeautifulSoup(webpage,'lxml')\n",
    "    company = soup.find_all(\"div\",class_=\"row d-flex flex-wrap\")\n",
    "    for i in company:\n",
    "        Company.append(i.find_all(\"h2\")[0].text.strip())\n",
    "        Rating.append(i.find_all(\"b\")[0].text.strip())\n",
    "        Salaries.append(i.find_all(\"div\",{\"data-test\":\"cell-Salaries\"})[0].text.replace(\"Salaries\",\"\"))\n",
    "        Review.append(i.find_all(\"div\",{\"data-test\":\"cell-Reviews\"})[0].text.replace(\"Reviews\",\"\"))\n",
    "        Jobs.append(i.find_all(\"div\",{\"data-test\":\"cell-Jobs\"})[0].text.replace(\"Jobs\",\"\"))\n",
    "        Location.append(i.find_all(\"span\",{\"data-test\":\"employer-location\"})[0].text)\n",
    "    d = {'Comapny':Company,'Rating':Rating,'Salaries':Salaries,'Review':Review,'Jobs':Jobs,'Location':Location}\n",
    "    df = pd.DataFrame(d)\n",
    "    CompanySet = CompanySet.append(df,ignore_index=True)\n",
    "    print(\"Page is {} Loaded Sucessfully..\".format(j))\n",
    "    \n",
    "    "
   ]
  },
  {
   "cell_type": "code",
   "execution_count": 5,
   "id": "b7f9a628",
   "metadata": {},
   "outputs": [],
   "source": [
    "CompanySet.to_csv(\"HighPayingJobs.csv\")"
   ]
  },
  {
   "cell_type": "code",
   "execution_count": 10,
   "id": "3645a730",
   "metadata": {},
   "outputs": [
    {
     "data": {
      "text/plain": [
       "Comapny     0\n",
       "Rating      0\n",
       "Salaries    0\n",
       "Review      0\n",
       "Jobs        0\n",
       "Location    0\n",
       "dtype: int64"
      ]
     },
     "execution_count": 10,
     "metadata": {},
     "output_type": "execute_result"
    }
   ],
   "source": [
    "CompanySet.isnull().sum()"
   ]
  },
  {
   "cell_type": "code",
   "execution_count": 7,
   "id": "04e27f00",
   "metadata": {},
   "outputs": [],
   "source": [
    "df = pd.read_csv(\"HighPayingJobs.csv\",na_values=False)"
   ]
  },
  {
   "cell_type": "code",
   "execution_count": null,
   "id": "7b68d7b6",
   "metadata": {},
   "outputs": [],
   "source": []
  }
 ],
 "metadata": {
  "kernelspec": {
   "display_name": "Python 3 (ipykernel)",
   "language": "python",
   "name": "python3"
  },
  "language_info": {
   "codemirror_mode": {
    "name": "ipython",
    "version": 3
   },
   "file_extension": ".py",
   "mimetype": "text/x-python",
   "name": "python",
   "nbconvert_exporter": "python",
   "pygments_lexer": "ipython3",
   "version": "3.10.9"
  }
 },
 "nbformat": 4,
 "nbformat_minor": 5
}
